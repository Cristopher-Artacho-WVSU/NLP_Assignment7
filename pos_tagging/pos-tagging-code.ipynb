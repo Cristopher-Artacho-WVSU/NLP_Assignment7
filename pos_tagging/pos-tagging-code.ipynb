{
 "cells": [
  {
   "cell_type": "code",
   "execution_count": 1,
   "metadata": {},
   "outputs": [],
   "source": [
    "import numpy as np\n",
    "import pandas as pd\n",
    "import matplotlib.pyplot as plt\n",
    "import seaborn as sns\n",
    "from sklearn.model_selection import train_test_split\n",
    "from sklearn.metrics import accuracy_score, classification_report, confusion_matrix\n",
    "import nltk\n",
    "from nltk.tokenize import word_tokenize, sent_tokenize\n",
    "import torch\n",
    "import torch.nn as nn\n",
    "import torch.optim as optim\n",
    "from torch.utils.data import Dataset, DataLoader\n",
    "from torch.nn.utils.rnn import pad_sequence\n",
    "from collections import defaultdict, Counter\n",
    "import time\n",
    "import random"
   ]
  },
  {
   "cell_type": "code",
   "execution_count": 2,
   "metadata": {},
   "outputs": [
    {
     "data": {
      "text/plain": [
       "<torch._C.Generator at 0x1b7fc04b930>"
      ]
     },
     "execution_count": 2,
     "metadata": {},
     "output_type": "execute_result"
    }
   ],
   "source": [
    "random.seed(42)\n",
    "np.random.seed(42)\n",
    "torch.manual_seed(42)"
   ]
  },
  {
   "cell_type": "markdown",
   "metadata": {},
   "source": [
    "Dataset Source: CLEAR Corpus<br>\n",
    "Dataset URL:<br>\n",
    "https://www.commonlit.org/blog/introducing-the-clear-corpus-an-open-dataset-to-advance-research-28ff8cfea84a/"
   ]
  },
  {
   "cell_type": "code",
   "execution_count": 3,
   "metadata": {},
   "outputs": [],
   "source": [
    "CLEAR_CORPUS_PATH = \"./dataset/clearcorpus.csv\""
   ]
  },
  {
   "cell_type": "code",
   "execution_count": 4,
   "metadata": {},
   "outputs": [],
   "source": [
    "def load_and_tag_clear_corpus(csv_path, text_column='Excerpt'):\n",
    "    \"\"\"\n",
    "    Load and POS tag the CLEAR corpus with proper error handling\n",
    "    \"\"\"\n",
    "    print(f\"Loading CLEAR corpus from {csv_path}...\")\n",
    "    \n",
    "    corpus_df = pd.read_csv(csv_path)\n",
    "    print(f\"Loaded CSV with {len(corpus_df)} rows\")\n",
    "    \n",
    "    texts = corpus_df[text_column].dropna().astype(str).tolist()\n",
    "    print(f\"Processing {len(texts)} text excerpts\")\n",
    "    \n",
    "    tagged_sentences = []\n",
    "    all_tags = set()\n",
    "    \n",
    "    for i, text in enumerate(texts):\n",
    "        if i % 100 == 0 and i > 0:\n",
    "            print(f\"Processed {i}/{len(texts)} texts...\")\n",
    "        \n",
    "        sentences = sent_tokenize(text)\n",
    "        \n",
    "        for sent in sentences:\n",
    "\n",
    "            words = word_tokenize(sent)\n",
    "            \n",
    "            # Skip empty sentences\n",
    "            if not words:\n",
    "                continue\n",
    "                \n",
    "            tagged_words = nltk.pos_tag(words, tagset='universal')\n",
    "            \n",
    "            tagged_sentences.append(tagged_words)\n",
    "            \n",
    "            for item in tagged_words:\n",
    "                # Check that the item is a tuple and has exactly 2 elements\n",
    "                if isinstance(item, tuple) and len(item) == 2:\n",
    "                    word, tag = item\n",
    "                    all_tags.add(tag)\n",
    "    \n",
    "    print(f\"Tagged {len(tagged_sentences)} sentences with {len(all_tags)} unique tags\")\n",
    "    return tagged_sentences, all_tags"
   ]
  },
  {
   "cell_type": "code",
   "execution_count": 5,
   "metadata": {},
   "outputs": [
    {
     "name": "stdout",
     "output_type": "stream",
     "text": [
      "Loading CLEAR corpus from ./dataset/clearcorpus.csv...\n",
      "Loaded CSV with 4724 rows\n",
      "Processing 4724 text excerpts\n",
      "Processed 100/4724 texts...\n",
      "Processed 200/4724 texts...\n",
      "Processed 300/4724 texts...\n",
      "Processed 400/4724 texts...\n",
      "Processed 500/4724 texts...\n",
      "Processed 600/4724 texts...\n",
      "Processed 700/4724 texts...\n",
      "Processed 800/4724 texts...\n",
      "Processed 900/4724 texts...\n",
      "Processed 1000/4724 texts...\n",
      "Processed 1100/4724 texts...\n",
      "Processed 1200/4724 texts...\n",
      "Processed 1300/4724 texts...\n",
      "Processed 1400/4724 texts...\n",
      "Processed 1500/4724 texts...\n",
      "Processed 1600/4724 texts...\n",
      "Processed 1700/4724 texts...\n",
      "Processed 1800/4724 texts...\n",
      "Processed 1900/4724 texts...\n",
      "Processed 2000/4724 texts...\n",
      "Processed 2100/4724 texts...\n",
      "Processed 2200/4724 texts...\n",
      "Processed 2300/4724 texts...\n",
      "Processed 2400/4724 texts...\n",
      "Processed 2500/4724 texts...\n",
      "Processed 2600/4724 texts...\n",
      "Processed 2700/4724 texts...\n",
      "Processed 2800/4724 texts...\n",
      "Processed 2900/4724 texts...\n",
      "Processed 3000/4724 texts...\n",
      "Processed 3100/4724 texts...\n",
      "Processed 3200/4724 texts...\n",
      "Processed 3300/4724 texts...\n",
      "Processed 3400/4724 texts...\n",
      "Processed 3500/4724 texts...\n",
      "Processed 3600/4724 texts...\n",
      "Processed 3700/4724 texts...\n",
      "Processed 3800/4724 texts...\n",
      "Processed 3900/4724 texts...\n",
      "Processed 4000/4724 texts...\n",
      "Processed 4100/4724 texts...\n",
      "Processed 4200/4724 texts...\n",
      "Processed 4300/4724 texts...\n",
      "Processed 4400/4724 texts...\n",
      "Processed 4500/4724 texts...\n",
      "Processed 4600/4724 texts...\n",
      "Processed 4700/4724 texts...\n",
      "Tagged 45176 sentences with 12 unique tags\n"
     ]
    }
   ],
   "source": [
    "tagged_sentences, all_tags = load_and_tag_clear_corpus(CLEAR_CORPUS_PATH)"
   ]
  },
  {
   "cell_type": "code",
   "execution_count": 6,
   "metadata": {},
   "outputs": [],
   "source": [
    "train_sentences, test_sentences = train_test_split(tagged_sentences, test_size=0.2, random_state=42)"
   ]
  },
  {
   "cell_type": "markdown",
   "metadata": {},
   "source": [
    "-------------------- MODEL 1: HIDDEN MARKOV MODEL --------------------- #"
   ]
  },
  {
   "cell_type": "code",
   "execution_count": 7,
   "metadata": {},
   "outputs": [
    {
     "name": "stdout",
     "output_type": "stream",
     "text": [
      "\n",
      "--- Training Hidden Markov Model ---\n"
     ]
    }
   ],
   "source": [
    "print(\"\\n--- Training Hidden Markov Model ---\")"
   ]
  },
  {
   "cell_type": "code",
   "execution_count": 8,
   "metadata": {},
   "outputs": [],
   "source": [
    "class HiddenMarkovModel:\n",
    "    def __init__(self):\n",
    "        self.tags = set()\n",
    "        self.words = set()\n",
    "        self.word_counts = Counter()\n",
    "        self.tag_counts = Counter()\n",
    "        self.emission_counts = defaultdict(Counter)\n",
    "        self.transition_counts = defaultdict(Counter)\n",
    "        self.initial_counts = Counter()\n",
    "        \n",
    "        self.emission_smoothing = 1e-5\n",
    "        self.transition_smoothing = 1e-5\n",
    "        \n",
    "    def train(self, train_data):\n",
    "        for sentence in train_data:\n",
    "            prev_tag = None\n",
    "            for i, (word, tag) in enumerate(sentence):\n",
    "                self.words.add(word)\n",
    "                self.tags.add(tag)\n",
    "                self.word_counts[word] += 1\n",
    "                self.tag_counts[tag] += 1\n",
    "                self.emission_counts[tag][word] += 1\n",
    "                \n",
    "                if i == 0:\n",
    "                    self.initial_counts[tag] += 1\n",
    "                else:\n",
    "                    self.transition_counts[prev_tag][tag] += 1\n",
    "                prev_tag = tag\n",
    "        self.calc_probabilities()\n",
    "    \n",
    "    def calc_probabilities(self):\n",
    "        self.initial_probs = {tag: count / len(self.initial_counts) \n",
    "                               for tag, count in self.initial_counts.items()}\n",
    "        \n",
    "        self.transition_probs = {}\n",
    "        for prev_tag in self.tags:\n",
    "            self.transition_probs[prev_tag] = {}\n",
    "            total = sum(self.transition_counts[prev_tag].values()) + self.transition_smoothing * len(self.tags)\n",
    "            for tag in self.tags:\n",
    "                self.transition_probs[prev_tag][tag] = (self.transition_counts[prev_tag][tag] + \n",
    "                                                        self.transition_smoothing) / total\n",
    "        \n",
    "        self.emission_probs = {}\n",
    "        for tag in self.tags:\n",
    "            self.emission_probs[tag] = {}\n",
    "            total = sum(self.emission_counts[tag].values()) + self.emission_smoothing * len(self.words)\n",
    "            for word in self.words:\n",
    "                self.emission_probs[tag][word] = (self.emission_counts[tag][word] + \n",
    "                                                   self.emission_smoothing) / total\n",
    "    \n",
    "    def viterbi_algorithm(self, sentence):\n",
    "        T = len(sentence)\n",
    "        N = len(self.tags)\n",
    "        tags_list = list(self.tags)\n",
    "        \n",
    "        viterbi = np.zeros((N, T))\n",
    "        backpointer = np.zeros((N, T), dtype=int)\n",
    "        \n",
    "        unknown_word_prob = 1e-10\n",
    "        \n",
    "        for i, tag in enumerate(tags_list):\n",
    "            initial_prob = self.initial_probs.get(tag, 1e-10)\n",
    "            word = sentence[0]\n",
    "            if word in self.words:\n",
    "                emission_prob = self.emission_probs[tag].get(word, unknown_word_prob)\n",
    "            else:\n",
    "                emission_prob = unknown_word_prob\n",
    "            viterbi[i, 0] = np.log(initial_prob) + np.log(emission_prob)\n",
    "        \n",
    "        for t in range(1, T):\n",
    "            word = sentence[t]\n",
    "            word_in_vocab = word in self.words\n",
    "            \n",
    "            for i, tag in enumerate(tags_list):\n",
    "                max_prob = float('-inf')\n",
    "                max_idx = 0\n",
    "                \n",
    "                if word_in_vocab:\n",
    "                    emission_prob = self.emission_probs[tag].get(word, unknown_word_prob)\n",
    "                else:\n",
    "                    emission_prob = unknown_word_prob\n",
    "                \n",
    "                for j, prev_tag in enumerate(tags_list):\n",
    "                    transition_prob = self.transition_probs[prev_tag].get(tag, self.transition_smoothing)\n",
    "                    \n",
    "                    prob = viterbi[j, t-1] + np.log(transition_prob)\n",
    "                    \n",
    "                    if prob > max_prob:\n",
    "                        max_prob = prob\n",
    "                        max_idx = j\n",
    "                \n",
    "                viterbi[i, t] = max_prob + np.log(emission_prob)\n",
    "                backpointer[i, t] = max_idx\n",
    "        \n",
    "        best_path = [0] * T\n",
    "        best_path_prob = float('-inf')\n",
    "        \n",
    "        for i, tag in enumerate(tags_list):\n",
    "            if viterbi[i, T-1] > best_path_prob:\n",
    "                best_path_prob = viterbi[i, T-1]\n",
    "                best_path[T-1] = i\n",
    "        \n",
    "        for t in range(T-1, 0, -1):\n",
    "            best_path[t-1] = backpointer[best_path[t], t]\n",
    "        \n",
    "        predicted_tags = [tags_list[idx] for idx in best_path]\n",
    "        \n",
    "        return predicted_tags\n",
    "    \n",
    "    def predict(self, sentences):\n",
    "        predictions = []\n",
    "        for sentence in sentences:\n",
    "            words = [word for word, _ in sentence]\n",
    "            predicted_tags = self.viterbi_algorithm(words)\n",
    "            predictions.append(predicted_tags)\n",
    "        return predictions"
   ]
  },
  {
   "cell_type": "code",
   "execution_count": 9,
   "metadata": {},
   "outputs": [
    {
     "name": "stdout",
     "output_type": "stream",
     "text": [
      "HMM training completed in 2.59 seconds\n"
     ]
    }
   ],
   "source": [
    "start_time = time.time()\n",
    "hmm = HiddenMarkovModel()\n",
    "hmm.train(train_sentences)\n",
    "hmm_training_time = time.time() - start_time\n",
    "print(f\"HMM training completed in {hmm_training_time:.2f} seconds\")"
   ]
  },
  {
   "cell_type": "code",
   "execution_count": 10,
   "metadata": {},
   "outputs": [
    {
     "name": "stdout",
     "output_type": "stream",
     "text": [
      "HMM inference completed in 75.09 seconds\n"
     ]
    }
   ],
   "source": [
    "start_time = time.time()\n",
    "hmm_predictions = hmm.predict(test_sentences)\n",
    "hmm_inference_time = time.time() - start_time\n",
    "print(f\"HMM inference completed in {hmm_inference_time:.2f} seconds\")"
   ]
  },
  {
   "cell_type": "code",
   "execution_count": 11,
   "metadata": {},
   "outputs": [],
   "source": [
    "hmm_true_tags = []\n",
    "hmm_pred_tags = []\n",
    "for i, sentence in enumerate(test_sentences):\n",
    "    true_tags = [tag for _, tag in sentence]\n",
    "    pred_tags = hmm_predictions[i]\n",
    "    \n",
    "    min_len = min(len(true_tags), len(pred_tags))\n",
    "    hmm_true_tags.extend(true_tags[:min_len])\n",
    "    hmm_pred_tags.extend(pred_tags[:min_len])"
   ]
  },
  {
   "cell_type": "code",
   "execution_count": 12,
   "metadata": {},
   "outputs": [
    {
     "name": "stdout",
     "output_type": "stream",
     "text": [
      "HMM Accuracy: 0.9497\n",
      "\n",
      "HMM Classification Report:\n",
      "              precision    recall  f1-score   support\n",
      "\n",
      "           .       0.99      1.00      0.99     24020\n",
      "         ADJ       0.87      0.86      0.87     12969\n",
      "         ADP       0.95      0.97      0.96     20502\n",
      "         ADV       0.88      0.91      0.90      9699\n",
      "        CONJ       0.99      0.99      0.99      7002\n",
      "         DET       0.96      0.97      0.96     20586\n",
      "        NOUN       0.95      0.93      0.94     41815\n",
      "         NUM       0.96      0.92      0.94      1874\n",
      "        PRON       0.98      1.00      0.99     12726\n",
      "         PRT       0.95      0.95      0.95      5682\n",
      "        VERB       0.95      0.94      0.94     30332\n",
      "           X       0.65      0.83      0.73       123\n",
      "\n",
      "    accuracy                           0.95    187330\n",
      "   macro avg       0.92      0.94      0.93    187330\n",
      "weighted avg       0.95      0.95      0.95    187330\n",
      "\n"
     ]
    }
   ],
   "source": [
    "hmm_accuracy = accuracy_score(hmm_true_tags, hmm_pred_tags)\n",
    "print(f\"HMM Accuracy: {hmm_accuracy:.4f}\")\n",
    "print(\"\\nHMM Classification Report:\")\n",
    "print(classification_report(hmm_true_tags, hmm_pred_tags))"
   ]
  },
  {
   "cell_type": "markdown",
   "metadata": {},
   "source": [
    "-------------------- MODEL 2: BIDIRECTIONAL LSTM NETWORK --------------------- #"
   ]
  },
  {
   "cell_type": "code",
   "execution_count": 13,
   "metadata": {},
   "outputs": [
    {
     "name": "stdout",
     "output_type": "stream",
     "text": [
      "\n",
      "--- Training Bidirectional LSTM Network ---\n"
     ]
    }
   ],
   "source": [
    "print(\"\\n--- Training Bidirectional LSTM Network ---\")"
   ]
  },
  {
   "cell_type": "markdown",
   "metadata": {},
   "source": [
    "Create vocabularies and mappings"
   ]
  },
  {
   "cell_type": "code",
   "execution_count": 14,
   "metadata": {},
   "outputs": [],
   "source": [
    "def build_vocab(sentences):\n",
    "    word_counts = Counter()\n",
    "    tag_counts = Counter()\n",
    "    \n",
    "    for sentence in sentences:\n",
    "        for word, tag in sentence:\n",
    "            word_counts[word] += 1\n",
    "            tag_counts[tag] += 1\n",
    "    word_to_idx = {word: i+1 for i, (word, _) in enumerate(word_counts.most_common())}\n",
    "    word_to_idx['<PAD>'] = 0  \n",
    "    word_to_idx['<UNK>'] = len(word_to_idx) \n",
    "    \n",
    "    tag_to_idx = {tag: i for i, (tag, _) in enumerate(tag_counts.most_common())}\n",
    "    \n",
    "    idx_to_word = {idx: word for word, idx in word_to_idx.items()}\n",
    "    idx_to_tag = {idx: tag for tag, idx in tag_to_idx.items()}\n",
    "    \n",
    "    return word_to_idx, tag_to_idx, idx_to_word, idx_to_tag"
   ]
  },
  {
   "cell_type": "code",
   "execution_count": 15,
   "metadata": {},
   "outputs": [],
   "source": [
    "class POSDataset(Dataset):\n",
    "    def __init__(self, sentences, word_to_idx, tag_to_idx):\n",
    "        self.sentences = sentences\n",
    "        self.word_to_idx = word_to_idx\n",
    "        self.tag_to_idx = tag_to_idx\n",
    "        \n",
    "    def __len__(self):\n",
    "        return len(self.sentences)\n",
    "    \n",
    "    def __getitem__(self, idx):\n",
    "        sentence = self.sentences[idx]\n",
    "        words = [word for word, _ in sentence]\n",
    "        tags = [tag for _, tag in sentence]\n",
    "        \n",
    "        word_indices = [self.word_to_idx.get(word, self.word_to_idx['<UNK>']) for word in words]\n",
    "        tag_indices = [self.tag_to_idx[tag] for tag in tags]\n",
    "        \n",
    "        return torch.tensor(word_indices), torch.tensor(tag_indices)"
   ]
  },
  {
   "cell_type": "code",
   "execution_count": 16,
   "metadata": {},
   "outputs": [],
   "source": [
    "def collate_fn(batch):\n",
    "    words, tags = zip(*batch)\n",
    "    \n",
    "    words_padded = pad_sequence(words, batch_first=True, padding_value=0)\n",
    "    tags_padded = pad_sequence(tags, batch_first=True, padding_value=-1)\n",
    "    \n",
    "    return words_padded, tags_padded"
   ]
  },
  {
   "cell_type": "code",
   "execution_count": 17,
   "metadata": {},
   "outputs": [],
   "source": [
    "class BiLSTM_POS_Tagger(nn.Module):\n",
    "    def __init__(self, vocab_size, embedding_dim, hidden_dim, output_dim, pad_idx):\n",
    "        super().__init__()\n",
    "        \n",
    "        self.embedding = nn.Embedding(vocab_size, embedding_dim, padding_idx=pad_idx)\n",
    "        self.lstm = nn.LSTM(embedding_dim, \n",
    "                           hidden_dim // 2, \n",
    "                           num_layers=1,\n",
    "                           bidirectional=True,\n",
    "                           batch_first=True)\n",
    "        self.fc = nn.Linear(hidden_dim, output_dim)\n",
    "        self.dropout = nn.Dropout(0.25)\n",
    "        \n",
    "    def forward(self, text):\n",
    "        embedded = self.dropout(self.embedding(text))\n",
    "        outputs, (hidden, cell) = self.lstm(embedded)\n",
    "        predictions = self.fc(outputs)\n",
    "        \n",
    "        return predictions"
   ]
  },
  {
   "cell_type": "code",
   "execution_count": 18,
   "metadata": {},
   "outputs": [],
   "source": [
    "word_to_idx, tag_to_idx, idx_to_word, idx_to_tag = build_vocab(train_sentences)\n",
    "vocab_size = len(word_to_idx)\n",
    "num_tags = len(tag_to_idx)"
   ]
  },
  {
   "cell_type": "code",
   "execution_count": 19,
   "metadata": {},
   "outputs": [
    {
     "name": "stdout",
     "output_type": "stream",
     "text": [
      "Vocabulary size: 38921\n",
      "Number of tags: 12\n"
     ]
    }
   ],
   "source": [
    "print(f\"Vocabulary size: {vocab_size}\")\n",
    "print(f\"Number of tags: {num_tags}\")"
   ]
  },
  {
   "cell_type": "code",
   "execution_count": 20,
   "metadata": {},
   "outputs": [],
   "source": [
    "train_dataset = POSDataset(train_sentences, word_to_idx, tag_to_idx)\n",
    "test_dataset = POSDataset(test_sentences, word_to_idx, tag_to_idx)"
   ]
  },
  {
   "cell_type": "code",
   "execution_count": 21,
   "metadata": {},
   "outputs": [],
   "source": [
    "batch_size = 32\n",
    "train_dataloader = DataLoader(train_dataset, batch_size=batch_size, shuffle=True, collate_fn=collate_fn)\n",
    "test_dataloader = DataLoader(test_dataset, batch_size=batch_size, collate_fn=collate_fn)"
   ]
  },
  {
   "cell_type": "code",
   "execution_count": 22,
   "metadata": {},
   "outputs": [
    {
     "name": "stdout",
     "output_type": "stream",
     "text": [
      "Using device: cpu\n"
     ]
    }
   ],
   "source": [
    "device = torch.device('cuda' if torch.cuda.is_available() else 'cpu')\n",
    "print(f\"Using device: {device}\")"
   ]
  },
  {
   "cell_type": "code",
   "execution_count": 23,
   "metadata": {},
   "outputs": [],
   "source": [
    "embedding_dim = 100\n",
    "hidden_dim = 128\n",
    "model = BiLSTM_POS_Tagger(vocab_size, embedding_dim, hidden_dim, num_tags, 0)\n",
    "model = model.to(device)"
   ]
  },
  {
   "cell_type": "code",
   "execution_count": 24,
   "metadata": {},
   "outputs": [],
   "source": [
    "criterion = nn.CrossEntropyLoss(ignore_index=-1) \n",
    "optimizer = optim.Adam(model.parameters(), lr=0.001)"
   ]
  },
  {
   "cell_type": "code",
   "execution_count": 25,
   "metadata": {},
   "outputs": [],
   "source": [
    "def train_model(model, dataloader, optimizer, criterion, device):\n",
    "    model.train()\n",
    "    epoch_loss = 0\n",
    "    \n",
    "    for words, tags in dataloader:\n",
    "        words = words.to(device)\n",
    "        tags = tags.to(device)\n",
    "        \n",
    "        optimizer.zero_grad()\n",
    "        \n",
    "        predictions = model(words)\n",
    "        \n",
    "        predictions = predictions.view(-1, predictions.shape[-1])\n",
    "        tags = tags.view(-1)\n",
    "        \n",
    "        loss = criterion(predictions, tags)\n",
    "        \n",
    "        loss.backward()\n",
    "        optimizer.step()\n",
    "        \n",
    "        epoch_loss += loss.item()\n",
    "    \n",
    "    return epoch_loss / len(dataloader)"
   ]
  },
  {
   "cell_type": "code",
   "execution_count": 26,
   "metadata": {},
   "outputs": [],
   "source": [
    "def evaluate_model(model, dataloader, criterion, device):\n",
    "    model.eval()\n",
    "    epoch_loss = 0\n",
    "    \n",
    "    all_predictions = []\n",
    "    all_tags = []\n",
    "    \n",
    "    with torch.no_grad():\n",
    "        for words, tags in dataloader:\n",
    "            words = words.to(device)\n",
    "            tags = tags.to(device)\n",
    "            \n",
    "            predictions = model(words)\n",
    "            \n",
    "            predictions_flat = predictions.view(-1, predictions.shape[-1])\n",
    "            tags_flat = tags.view(-1)\n",
    "            \n",
    "            loss = criterion(predictions_flat, tags_flat)\n",
    "            epoch_loss += loss.item()\n",
    "            \n",
    "            _, predicted = torch.max(predictions, dim=2)\n",
    "            \n",
    "            for i in range(len(tags)):\n",
    "                length = (tags[i] != -1).sum().item()\n",
    "                all_predictions.extend(predicted[i, :length].cpu().numpy())\n",
    "                all_tags.extend(tags[i, :length].cpu().numpy())\n",
    "    \n",
    "    accuracy = accuracy_score(all_tags, all_predictions)\n",
    "    \n",
    "    true_tags = [idx_to_tag[idx] for idx in all_tags]\n",
    "    pred_tags = [idx_to_tag[idx] for idx in all_predictions]\n",
    "    \n",
    "    return epoch_loss / len(dataloader), accuracy, true_tags, pred_tags"
   ]
  },
  {
   "cell_type": "code",
   "execution_count": 27,
   "metadata": {},
   "outputs": [],
   "source": [
    "train_losses = []"
   ]
  },
  {
   "cell_type": "code",
   "execution_count": 28,
   "metadata": {},
   "outputs": [],
   "source": [
    "def train_bilstm(num_epochs = 5):\n",
    "    start_time = time.time()\n",
    "    \n",
    "    for epoch in range(num_epochs):\n",
    "        train_loss = train_model(model, train_dataloader, optimizer, criterion, device)\n",
    "        train_losses.append(train_loss)\n",
    "        print(f\"Epoch {epoch+1}/{num_epochs}, Loss: {train_loss:.4f}\")\n",
    "    bilstm_training_time = time.time() - start_time\n",
    "    print(f\"BiLSTM training completed in {bilstm_training_time:.2f} seconds\")\n",
    "    start_time = time.time()\n",
    "    test_loss, bilstm_accuracy, true_tags, pred_tags = evaluate_model(model, test_dataloader, criterion, device)\n",
    "    bilstm_inference_time = time.time() - start_time\n",
    "    print(f\"BiLSTM inference completed in {bilstm_inference_time:.2f} seconds\")\n",
    "    print(f\"BiLSTM Test Loss: {test_loss:.4f}\")\n",
    "    print(f\"BiLSTM Accuracy: {bilstm_accuracy:.4f}\")\n",
    "    print(\"\\nBiLSTM Classification Report:\")\n",
    "    print(classification_report(true_tags, pred_tags))\n",
    "    return [bilstm_accuracy, bilstm_inference_time, bilstm_training_time]"
   ]
  },
  {
   "cell_type": "code",
   "execution_count": 29,
   "metadata": {},
   "outputs": [
    {
     "name": "stdout",
     "output_type": "stream",
     "text": [
      "Epoch 1/5, Loss: 0.4844\n",
      "Epoch 2/5, Loss: 0.1996\n",
      "Epoch 3/5, Loss: 0.1528\n",
      "Epoch 4/5, Loss: 0.1280\n",
      "Epoch 5/5, Loss: 0.1115\n",
      "BiLSTM training completed in 622.54 seconds\n",
      "BiLSTM inference completed in 6.38 seconds\n",
      "BiLSTM Test Loss: 0.1219\n",
      "BiLSTM Accuracy: 0.9619\n",
      "\n",
      "BiLSTM Classification Report:\n",
      "              precision    recall  f1-score   support\n",
      "\n",
      "           .       1.00      1.00      1.00     24020\n",
      "         ADJ       0.90      0.84      0.87     12969\n",
      "         ADP       0.99      0.99      0.99     20502\n",
      "         ADV       0.94      0.91      0.93      9699\n",
      "        CONJ       1.00      1.00      1.00      7002\n",
      "         DET       0.99      0.99      0.99     20586\n",
      "        NOUN       0.94      0.95      0.94     41815\n",
      "         NUM       0.97      0.81      0.88      1874\n",
      "        PRON       1.00      1.00      1.00     12726\n",
      "         PRT       0.98      0.98      0.98      5682\n",
      "        VERB       0.94      0.96      0.95     30332\n",
      "           X       0.93      0.77      0.84       123\n",
      "\n",
      "    accuracy                           0.96    187330\n",
      "   macro avg       0.96      0.93      0.95    187330\n",
      "weighted avg       0.96      0.96      0.96    187330\n",
      "\n",
      "[0.9619014573213046, 6.384650945663452, 622.5424003601074]\n",
      "Epoch 1/10, Loss: 0.0999\n",
      "Epoch 2/10, Loss: 0.0901\n",
      "Epoch 3/10, Loss: 0.0832\n",
      "Epoch 4/10, Loss: 0.0763\n",
      "Epoch 5/10, Loss: 0.0712\n",
      "Epoch 6/10, Loss: 0.0664\n",
      "Epoch 7/10, Loss: 0.0621\n",
      "Epoch 8/10, Loss: 0.0582\n",
      "Epoch 9/10, Loss: 0.0550\n",
      "Epoch 10/10, Loss: 0.0515\n",
      "BiLSTM training completed in 627.10 seconds\n",
      "BiLSTM inference completed in 2.56 seconds\n",
      "BiLSTM Test Loss: 0.1135\n",
      "BiLSTM Accuracy: 0.9676\n",
      "\n",
      "BiLSTM Classification Report:\n",
      "              precision    recall  f1-score   support\n",
      "\n",
      "           .       1.00      1.00      1.00     24020\n",
      "         ADJ       0.91      0.87      0.89     12969\n",
      "         ADP       0.99      0.99      0.99     20502\n",
      "         ADV       0.96      0.93      0.95      9699\n",
      "        CONJ       1.00      1.00      1.00      7002\n",
      "         DET       1.00      0.99      0.99     20586\n",
      "        NOUN       0.95      0.95      0.95     41815\n",
      "         NUM       0.98      0.89      0.93      1874\n",
      "        PRON       1.00      1.00      1.00     12726\n",
      "         PRT       0.98      0.98      0.98      5682\n",
      "        VERB       0.93      0.97      0.95     30332\n",
      "           X       0.87      0.81      0.84       123\n",
      "\n",
      "    accuracy                           0.97    187330\n",
      "   macro avg       0.96      0.95      0.96    187330\n",
      "weighted avg       0.97      0.97      0.97    187330\n",
      "\n"
     ]
    }
   ],
   "source": [
    "bilstm_perf_5 = train_bilstm(num_epochs=5)\n",
    "print(bilstm_perf_5)\n",
    "bilstm_perf_10 = train_bilstm(num_epochs=10)"
   ]
  },
  {
   "cell_type": "markdown",
   "metadata": {},
   "source": [
    "-------------------- MODEL COMPARISON --------------------- #"
   ]
  },
  {
   "cell_type": "code",
   "execution_count": 30,
   "metadata": {},
   "outputs": [
    {
     "name": "stdout",
     "output_type": "stream",
     "text": [
      "\n",
      "--- Model Comparison ---\n"
     ]
    }
   ],
   "source": [
    "print(\"\\n--- Model Comparison ---\")"
   ]
  },
  {
   "cell_type": "code",
   "execution_count": null,
   "metadata": {},
   "outputs": [],
   "source": [
    "def compare_bilstm(bilstm_perf, epoch):\n",
    "    print(f\"---------------EPOCH {epoch} ----------------\")\n",
    "    # Compare accuracies\n",
    "    print(f\"HMM Accuracy: {hmm_accuracy:.4f}\")\n",
    "    print(f\"BiLSTM Accuracy: {str(bilstm_perf[0])}\")\n",
    "\n",
    "    # Compare training times\n",
    "    print(f\"HMM Training Time: {hmm_training_time:.2f} seconds\")\n",
    "    print(f\"BiLSTM Training Time: {str(bilstm_perf[2])} seconds\")\n",
    "\n",
    "    # Compare inference times\n",
    "    print(f\"HMM Inference Time: {hmm_inference_time:.2f} seconds\")\n",
    "    print(f\"BiLSTM Inference Time: {str(bilstm_perf[1])} seconds\")\n",
    "    return bilstm_perf[0]"
   ]
  },
  {
   "cell_type": "code",
   "execution_count": 32,
   "metadata": {},
   "outputs": [
    {
     "name": "stdout",
     "output_type": "stream",
     "text": [
      "---------------EPOCH 5 ----------------\n",
      "HMM Accuracy: 0.9497\n",
      "BiLSTM Accuracy: 0.9619014573213046\n",
      "HMM Training Time: 2.59 seconds\n",
      "BiLSTM Training Time: 622.5424003601074 seconds\n",
      "HMM Inference Time: 75.09 seconds\n",
      "BiLSTM Inference Time: 6.384650945663452 seconds\n",
      "---------------EPOCH 10 ----------------\n",
      "HMM Accuracy: 0.9497\n",
      "BiLSTM Accuracy: 0.9675972882079752\n",
      "HMM Training Time: 2.59 seconds\n",
      "BiLSTM Training Time: 627.0971188545227 seconds\n",
      "HMM Inference Time: 75.09 seconds\n",
      "BiLSTM Inference Time: 2.56246280670166 seconds\n"
     ]
    }
   ],
   "source": [
    "bilstm5 = compare_bilstm(bilstm_perf_5, epoch=5)\n",
    "bilstm10 = compare_bilstm(bilstm_perf_10, epoch=10)"
   ]
  },
  {
   "cell_type": "code",
   "execution_count": 33,
   "metadata": {},
   "outputs": [
    {
     "name": "stdout",
     "output_type": "stream",
     "text": [
      "---------------EPOCH 10 ----------------\n",
      "HMM Accuracy: 0.9497\n"
     ]
    },
    {
     "ename": "TypeError",
     "evalue": "'float' object is not subscriptable",
     "output_type": "error",
     "traceback": [
      "\u001b[31m---------------------------------------------------------------------------\u001b[39m",
      "\u001b[31mTypeError\u001b[39m                                 Traceback (most recent call last)",
      "\u001b[36mCell\u001b[39m\u001b[36m \u001b[39m\u001b[32mIn[33]\u001b[39m\u001b[32m, line 2\u001b[39m\n\u001b[32m      1\u001b[39m num_epochs = \u001b[32m5\u001b[39m \u001b[38;5;28;01mif\u001b[39;00m bilstm5 > bilstm10 \u001b[38;5;28;01melse\u001b[39;00m \u001b[32m10\u001b[39m \n\u001b[32m----> \u001b[39m\u001b[32m2\u001b[39m bilstm_accuracy = \u001b[43mcompare_bilstm\u001b[49m\u001b[43m(\u001b[49m\u001b[43mbilstm10\u001b[49m\u001b[43m,\u001b[49m\u001b[43m \u001b[49m\u001b[43mepoch\u001b[49m\u001b[43m=\u001b[49m\u001b[43mnum_epochs\u001b[49m\u001b[43m)\u001b[49m\n",
      "\u001b[36mCell\u001b[39m\u001b[36m \u001b[39m\u001b[32mIn[31]\u001b[39m\u001b[32m, line 5\u001b[39m, in \u001b[36mcompare_bilstm\u001b[39m\u001b[34m(bilstm_perf, epoch)\u001b[39m\n\u001b[32m      3\u001b[39m \u001b[38;5;66;03m# Compare accuracies\u001b[39;00m\n\u001b[32m      4\u001b[39m \u001b[38;5;28mprint\u001b[39m(\u001b[33mf\u001b[39m\u001b[33m\"\u001b[39m\u001b[33mHMM Accuracy: \u001b[39m\u001b[38;5;132;01m{\u001b[39;00mhmm_accuracy\u001b[38;5;132;01m:\u001b[39;00m\u001b[33m.4f\u001b[39m\u001b[38;5;132;01m}\u001b[39;00m\u001b[33m\"\u001b[39m)\n\u001b[32m----> \u001b[39m\u001b[32m5\u001b[39m \u001b[38;5;28mprint\u001b[39m(\u001b[33mf\u001b[39m\u001b[33m\"\u001b[39m\u001b[33mBiLSTM Accuracy: \u001b[39m\u001b[38;5;132;01m{\u001b[39;00m\u001b[43mbilstm_perf\u001b[49m\u001b[43m[\u001b[49m\u001b[32;43m0\u001b[39;49m\u001b[43m]\u001b[49m\u001b[38;5;132;01m}\u001b[39;00m\u001b[33m\"\u001b[39m)\n\u001b[32m      7\u001b[39m \u001b[38;5;66;03m# Compare training times\u001b[39;00m\n\u001b[32m      8\u001b[39m \u001b[38;5;28mprint\u001b[39m(\u001b[33mf\u001b[39m\u001b[33m\"\u001b[39m\u001b[33mHMM Training Time: \u001b[39m\u001b[38;5;132;01m{\u001b[39;00mhmm_training_time\u001b[38;5;132;01m:\u001b[39;00m\u001b[33m.2f\u001b[39m\u001b[38;5;132;01m}\u001b[39;00m\u001b[33m seconds\u001b[39m\u001b[33m\"\u001b[39m)\n",
      "\u001b[31mTypeError\u001b[39m: 'float' object is not subscriptable"
     ]
    }
   ],
   "source": [
    "num_epochs = 5 if bilstm5 > bilstm10 else 10 \n",
    "bilstm_accuracy = compare_bilstm(bilstm10, epoch=num_epochs)"
   ]
  },
  {
   "cell_type": "code",
   "execution_count": null,
   "metadata": {},
   "outputs": [],
   "source": [
    "hmm_cm = confusion_matrix(hmm_true_tags, hmm_pred_tags, labels=list(all_tags))\n",
    "bilstm_cm = confusion_matrix(true_tags, pred_tags, labels=list(all_tags))"
   ]
  },
  {
   "cell_type": "code",
   "execution_count": null,
   "metadata": {},
   "outputs": [],
   "source": [
    "plt.figure(figsize=(10, 6))\n",
    "plt.plot(range(1, num_epochs+1), train_losses, marker='o', linestyle='-')\n",
    "plt.title('BiLSTM Training Loss')\n",
    "plt.xlabel('Epoch')\n",
    "plt.ylabel('Loss')\n",
    "plt.grid(True)\n",
    "plt.savefig('bilstm_training_loss.png')\n",
    "plt.close()"
   ]
  },
  {
   "cell_type": "code",
   "execution_count": null,
   "metadata": {},
   "outputs": [],
   "source": [
    "plt.figure(figsize=(12, 5))"
   ]
  },
  {
   "cell_type": "code",
   "execution_count": null,
   "metadata": {},
   "outputs": [],
   "source": [
    "plt.subplot(1, 2, 1)\n",
    "sns.heatmap(hmm_cm, annot=False, cmap='Blues', fmt='d', xticklabels=list(all_tags), yticklabels=list(all_tags))\n",
    "plt.title('HMM Confusion Matrix')\n",
    "plt.xlabel('Predicted')\n",
    "plt.ylabel('True')"
   ]
  },
  {
   "cell_type": "code",
   "execution_count": null,
   "metadata": {},
   "outputs": [],
   "source": [
    "plt.subplot(1, 2, 2)\n",
    "sns.heatmap(bilstm_cm, annot=False, cmap='Blues', fmt='d', xticklabels=list(all_tags), yticklabels=list(all_tags))\n",
    "plt.title('BiLSTM Confusion Matrix')\n",
    "plt.xlabel('Predicted')\n",
    "plt.ylabel('True')"
   ]
  },
  {
   "cell_type": "code",
   "execution_count": null,
   "metadata": {},
   "outputs": [],
   "source": [
    "plt.tight_layout()\n",
    "plt.savefig('confusion_matrices.png')\n",
    "plt.close()"
   ]
  },
  {
   "cell_type": "code",
   "execution_count": null,
   "metadata": {},
   "outputs": [],
   "source": [
    "plt.figure(figsize=(8, 6))\n",
    "models = ['HMM', 'BiLSTM']\n",
    "accuracies = [hmm_accuracy, bilstm_accuracy]\n",
    "plt.bar(models, accuracies, color=['#1f77b4', '#ff7f0e'])\n",
    "plt.title('Model Accuracy Comparison')\n",
    "plt.xlabel('Model')\n",
    "plt.ylabel('Accuracy')\n",
    "plt.ylim(0, 1)\n",
    "for i, acc in enumerate(accuracies):\n",
    "    plt.text(i, acc + 0.01, f'{acc:.4f}', ha='center')\n",
    "plt.grid(axis='y', alpha=0.3)\n",
    "plt.savefig('accuracy_comparison.png')\n",
    "plt.close()"
   ]
  },
  {
   "cell_type": "code",
   "execution_count": null,
   "metadata": {},
   "outputs": [],
   "source": [
    "best_model = \"BiLSTM\" if bilstm_accuracy > hmm_accuracy else \"HMM\"\n",
    "print(f\"\\nBest performing model: {best_model}\")"
   ]
  },
  {
   "cell_type": "code",
   "execution_count": null,
   "metadata": {},
   "outputs": [],
   "source": [
    "print(\"\\nConclusion:\")\n",
    "if best_model == \"BiLSTM\":\n",
    "    print(\"The BiLSTM model outperformed the HMM for POS tagging, demonstrating the advantage of neural approaches for sequential linguistic tasks.\")\n",
    "else:\n",
    "    print(\"Interestingly, the traditional HMM model performed better than the BiLSTM for this POS tagging task, which might be due to the dataset size or complexity.\")"
   ]
  }
 ],
 "metadata": {
  "kernelspec": {
   "display_name": "Python 3",
   "language": "python",
   "name": "python3"
  },
  "language_info": {
   "codemirror_mode": {
    "name": "ipython",
    "version": 3
   },
   "file_extension": ".py",
   "mimetype": "text/x-python",
   "name": "python",
   "nbconvert_exporter": "python",
   "pygments_lexer": "ipython3",
   "version": "3.12.9"
  }
 },
 "nbformat": 4,
 "nbformat_minor": 2
}
